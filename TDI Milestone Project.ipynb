{
 "cells": [
  {
   "cell_type": "markdown",
   "id": "6ed2c808",
   "metadata": {},
   "source": [
    "# Milestone Project"
   ]
  },
  {
   "cell_type": "markdown",
   "id": "8d9c361d",
   "metadata": {},
   "source": [
    "# Data:\n",
    "\n",
    "### Total estimated annual dollar value of utility discounts for businesses approved for ECSP benefits during the fiscal year.\n",
    "\n",
    "\n",
    "Source: https://data.cityofnewyork.us/City-Government/Value-of-Energy-Cost-Savings-Program-Savings-for-B/bug8-9f3g\n",
    "\n",
    "Updated: May 9, 2022 Accessed: Feb 24, 2023"
   ]
  },
  {
   "cell_type": "code",
   "execution_count": 1,
   "id": "0b3f6edf",
   "metadata": {},
   "outputs": [],
   "source": [
    "import pandas as pd\n",
    "\n",
    "data = pd.read_csv(\"/Users/danafelker/Downloads/Value_of_Energy_Cost_Savings_Program_Savings_for_Businesses_-_FY2020.csv\")"
   ]
  },
  {
   "cell_type": "markdown",
   "id": "cd2b4e9b",
   "metadata": {},
   "source": [
    "## Initial Exploration"
   ]
  },
  {
   "cell_type": "code",
   "execution_count": 2,
   "id": "367e270b",
   "metadata": {},
   "outputs": [
    {
     "data": {
      "text/plain": [
       "(450, 26)"
      ]
     },
     "execution_count": 2,
     "metadata": {},
     "output_type": "execute_result"
    }
   ],
   "source": [
    "data.shape"
   ]
  },
  {
   "cell_type": "markdown",
   "id": "b83142d8",
   "metadata": {},
   "source": [
    "This corresponds with the number of rows and columns listed on the source website."
   ]
  },
  {
   "cell_type": "code",
   "execution_count": 3,
   "id": "04a70d78",
   "metadata": {},
   "outputs": [
    {
     "name": "stdout",
     "output_type": "stream",
     "text": [
      "Index(['Company Name', 'company contact', 'company email', 'company phone',\n",
      "       'Address', 'City', 'State', 'Postcode', 'Industry', 'Industry descr',\n",
      "       'Company Type', 'Current fulltime', 'Job created', 'Job retain',\n",
      "       'Effective Date', 'Total Savings',\n",
      "       'Savings from beginning receiving benefits', 'Borough', 'Latitude',\n",
      "       'Longitude', 'Community Board', 'Council District', 'Census Tract',\n",
      "       'BIN', 'BBL', 'NTA'],\n",
      "      dtype='object')\n"
     ]
    }
   ],
   "source": [
    "data.describe()\n",
    "print(data.columns)"
   ]
  },
  {
   "cell_type": "markdown",
   "id": "1ff37f9e",
   "metadata": {},
   "source": [
    "## Data Cleaning\n",
    "\n",
    "1. Clean column names\n",
    "2. Convert string columns to numeric - not needed.\n",
    "3. Extract values from strings - not needed\n",
    "4. Correct Bad or Inconsistent Values - not needed\n",
    "5. Deal with null values (drop or assign NaN or placeholder)\n",
    "6. Remove duplicates\n",
    "7. Scan for outliers - looks ok\n",
    "8. Save cleaned data to csv as backup\n"
   ]
  },
  {
   "cell_type": "code",
   "execution_count": 4,
   "id": "e5bdc027",
   "metadata": {},
   "outputs": [
    {
     "name": "stdout",
     "output_type": "stream",
     "text": [
      "Index(['company_name', 'company_contact', 'company_email', 'company_phone',\n",
      "       'address', 'city', 'state', 'postcode', 'industry', 'industry_descr',\n",
      "       'company_type', 'current_fulltime', 'job_created', 'job_retain',\n",
      "       'effective_date', 'total_savings',\n",
      "       'savings_from_beginning_receiving_benefits', 'borough', 'latitude',\n",
      "       'longitude', 'community_board', 'council_district', 'census_tract',\n",
      "       'bin', 'bbl', 'nta'],\n",
      "      dtype='object')\n"
     ]
    }
   ],
   "source": [
    "#Clean column names:\n",
    "def clean_col(col):\n",
    "    col = col.strip() # removes white space\n",
    "    col = col.replace(\" \",\"_\") #replaces spaces with underscores\n",
    "    col = col.lower() #converts to lowercase\n",
    "    return col\n",
    "\n",
    "new_columns = []\n",
    "for c in data.columns:\n",
    "    clean_c = clean_col(c)\n",
    "    new_columns.append(clean_c)\n",
    "\n",
    "data.columns = new_columns\n",
    "print(data.columns)"
   ]
  },
  {
   "cell_type": "code",
   "execution_count": 5,
   "id": "4ca061e9",
   "metadata": {},
   "outputs": [
    {
     "name": "stdout",
     "output_type": "stream",
     "text": [
      "<class 'pandas.core.frame.DataFrame'>\n",
      "RangeIndex: 450 entries, 0 to 449\n",
      "Data columns (total 26 columns):\n",
      " #   Column                                     Non-Null Count  Dtype  \n",
      "---  ------                                     --------------  -----  \n",
      " 0   company_name                               450 non-null    object \n",
      " 1   company_contact                            450 non-null    object \n",
      " 2   company_email                              433 non-null    object \n",
      " 3   company_phone                              450 non-null    object \n",
      " 4   address                                    450 non-null    object \n",
      " 5   city                                       450 non-null    object \n",
      " 6   state                                      450 non-null    object \n",
      " 7   postcode                                   450 non-null    int64  \n",
      " 8   industry                                   450 non-null    object \n",
      " 9   industry_descr                             434 non-null    object \n",
      " 10  company_type                               450 non-null    object \n",
      " 11  current_fulltime                           446 non-null    float64\n",
      " 12  job_created                                11 non-null     float64\n",
      " 13  job_retain                                 14 non-null     float64\n",
      " 14  effective_date                             450 non-null    object \n",
      " 15  total_savings                              450 non-null    float64\n",
      " 16  savings_from_beginning_receiving_benefits  450 non-null    float64\n",
      " 17  borough                                    450 non-null    object \n",
      " 18  latitude                                   409 non-null    float64\n",
      " 19  longitude                                  409 non-null    float64\n",
      " 20  community_board                            409 non-null    float64\n",
      " 21  council_district                           409 non-null    float64\n",
      " 22  census_tract                               409 non-null    float64\n",
      " 23  bin                                        401 non-null    float64\n",
      " 24  bbl                                        401 non-null    float64\n",
      " 25  nta                                        409 non-null    object \n",
      "dtypes: float64(12), int64(1), object(13)\n",
      "memory usage: 91.5+ KB\n"
     ]
    }
   ],
   "source": [
    "#Check if column types match data types\n",
    "data.info()"
   ]
  },
  {
   "cell_type": "markdown",
   "id": "a11e8399",
   "metadata": {},
   "source": [
    "Potential issues:\n",
    "\n",
    "- Dates stored as strings: not relevant for scope of this homework. No change.\n",
    "- Locations (postcodes, lat/long) as floats: Also not relevant for the scope of this homework. No change."
   ]
  },
  {
   "cell_type": "markdown",
   "id": "701d32a1",
   "metadata": {},
   "source": [
    "Scan for bad/inconsistent values in numeric columns that will be most important:\n",
    "\n",
    "- job_created = number of jobs created within the year\n",
    "- total_savings = how much money the company saved for the fiscal year\n",
    "\n",
    "Both seem reasonable in summary values"
   ]
  },
  {
   "cell_type": "code",
   "execution_count": 6,
   "id": "94a0a0a1",
   "metadata": {},
   "outputs": [
    {
     "data": {
      "text/html": [
       "<div>\n",
       "<style scoped>\n",
       "    .dataframe tbody tr th:only-of-type {\n",
       "        vertical-align: middle;\n",
       "    }\n",
       "\n",
       "    .dataframe tbody tr th {\n",
       "        vertical-align: top;\n",
       "    }\n",
       "\n",
       "    .dataframe thead th {\n",
       "        text-align: right;\n",
       "    }\n",
       "</style>\n",
       "<table border=\"1\" class=\"dataframe\">\n",
       "  <thead>\n",
       "    <tr style=\"text-align: right;\">\n",
       "      <th></th>\n",
       "      <th>postcode</th>\n",
       "      <th>current_fulltime</th>\n",
       "      <th>job_created</th>\n",
       "      <th>job_retain</th>\n",
       "      <th>total_savings</th>\n",
       "      <th>savings_from_beginning_receiving_benefits</th>\n",
       "      <th>latitude</th>\n",
       "      <th>longitude</th>\n",
       "      <th>community_board</th>\n",
       "      <th>council_district</th>\n",
       "      <th>census_tract</th>\n",
       "      <th>bin</th>\n",
       "      <th>bbl</th>\n",
       "    </tr>\n",
       "  </thead>\n",
       "  <tbody>\n",
       "    <tr>\n",
       "      <th>count</th>\n",
       "      <td>450.000000</td>\n",
       "      <td>446.000000</td>\n",
       "      <td>11.000000</td>\n",
       "      <td>14.000000</td>\n",
       "      <td>4.500000e+02</td>\n",
       "      <td>4.500000e+02</td>\n",
       "      <td>409.000000</td>\n",
       "      <td>409.000000</td>\n",
       "      <td>409.000000</td>\n",
       "      <td>409.000000</td>\n",
       "      <td>409.000000</td>\n",
       "      <td>4.010000e+02</td>\n",
       "      <td>4.010000e+02</td>\n",
       "    </tr>\n",
       "    <tr>\n",
       "      <th>mean</th>\n",
       "      <td>11024.124444</td>\n",
       "      <td>124.186099</td>\n",
       "      <td>13.545455</td>\n",
       "      <td>297.500000</td>\n",
       "      <td>3.943778e+04</td>\n",
       "      <td>4.234601e+05</td>\n",
       "      <td>40.722293</td>\n",
       "      <td>-73.942376</td>\n",
       "      <td>317.982885</td>\n",
       "      <td>27.823961</td>\n",
       "      <td>2049.080685</td>\n",
       "      <td>3.295894e+06</td>\n",
       "      <td>3.163398e+09</td>\n",
       "    </tr>\n",
       "    <tr>\n",
       "      <th>std</th>\n",
       "      <td>405.126704</td>\n",
       "      <td>392.750810</td>\n",
       "      <td>16.409532</td>\n",
       "      <td>778.404655</td>\n",
       "      <td>1.345949e+05</td>\n",
       "      <td>1.936066e+06</td>\n",
       "      <td>0.057503</td>\n",
       "      <td>0.065553</td>\n",
       "      <td>93.925749</td>\n",
       "      <td>10.984316</td>\n",
       "      <td>7784.674799</td>\n",
       "      <td>9.897776e+05</td>\n",
       "      <td>9.483943e+08</td>\n",
       "    </tr>\n",
       "    <tr>\n",
       "      <th>min</th>\n",
       "      <td>10001.000000</td>\n",
       "      <td>0.000000</td>\n",
       "      <td>2.000000</td>\n",
       "      <td>4.000000</td>\n",
       "      <td>-1.099101e+05</td>\n",
       "      <td>0.000000e+00</td>\n",
       "      <td>40.555080</td>\n",
       "      <td>-74.216206</td>\n",
       "      <td>101.000000</td>\n",
       "      <td>1.000000</td>\n",
       "      <td>1.000000</td>\n",
       "      <td>1.000811e+06</td>\n",
       "      <td>1.000220e+09</td>\n",
       "    </tr>\n",
       "    <tr>\n",
       "      <th>25%</th>\n",
       "      <td>11101.000000</td>\n",
       "      <td>11.000000</td>\n",
       "      <td>4.000000</td>\n",
       "      <td>15.500000</td>\n",
       "      <td>1.770947e+03</td>\n",
       "      <td>1.498420e+04</td>\n",
       "      <td>40.676351</td>\n",
       "      <td>-73.984843</td>\n",
       "      <td>301.000000</td>\n",
       "      <td>26.000000</td>\n",
       "      <td>20.000000</td>\n",
       "      <td>3.009889e+06</td>\n",
       "      <td>3.006320e+09</td>\n",
       "    </tr>\n",
       "    <tr>\n",
       "      <th>50%</th>\n",
       "      <td>11205.000000</td>\n",
       "      <td>28.000000</td>\n",
       "      <td>10.000000</td>\n",
       "      <td>42.000000</td>\n",
       "      <td>6.101215e+03</td>\n",
       "      <td>5.431184e+04</td>\n",
       "      <td>40.721144</td>\n",
       "      <td>-73.941706</td>\n",
       "      <td>307.000000</td>\n",
       "      <td>30.000000</td>\n",
       "      <td>199.000000</td>\n",
       "      <td>3.336903e+06</td>\n",
       "      <td>3.036760e+09</td>\n",
       "    </tr>\n",
       "    <tr>\n",
       "      <th>75%</th>\n",
       "      <td>11232.000000</td>\n",
       "      <td>76.000000</td>\n",
       "      <td>13.500000</td>\n",
       "      <td>160.750000</td>\n",
       "      <td>2.025603e+04</td>\n",
       "      <td>2.003667e+05</td>\n",
       "      <td>40.752096</td>\n",
       "      <td>-73.909345</td>\n",
       "      <td>402.000000</td>\n",
       "      <td>36.000000</td>\n",
       "      <td>543.000000</td>\n",
       "      <td>4.005076e+06</td>\n",
       "      <td>4.003930e+09</td>\n",
       "    </tr>\n",
       "    <tr>\n",
       "      <th>max</th>\n",
       "      <td>11693.000000</td>\n",
       "      <td>3878.000000</td>\n",
       "      <td>60.000000</td>\n",
       "      <td>2964.000000</td>\n",
       "      <td>1.568982e+06</td>\n",
       "      <td>3.351826e+07</td>\n",
       "      <td>40.890837</td>\n",
       "      <td>-73.743730</td>\n",
       "      <td>503.000000</td>\n",
       "      <td>51.000000</td>\n",
       "      <td>94201.000000</td>\n",
       "      <td>5.168823e+06</td>\n",
       "      <td>5.070670e+09</td>\n",
       "    </tr>\n",
       "  </tbody>\n",
       "</table>\n",
       "</div>"
      ],
      "text/plain": [
       "           postcode  current_fulltime  job_created   job_retain  \\\n",
       "count    450.000000        446.000000    11.000000    14.000000   \n",
       "mean   11024.124444        124.186099    13.545455   297.500000   \n",
       "std      405.126704        392.750810    16.409532   778.404655   \n",
       "min    10001.000000          0.000000     2.000000     4.000000   \n",
       "25%    11101.000000         11.000000     4.000000    15.500000   \n",
       "50%    11205.000000         28.000000    10.000000    42.000000   \n",
       "75%    11232.000000         76.000000    13.500000   160.750000   \n",
       "max    11693.000000       3878.000000    60.000000  2964.000000   \n",
       "\n",
       "       total_savings  savings_from_beginning_receiving_benefits    latitude  \\\n",
       "count   4.500000e+02                               4.500000e+02  409.000000   \n",
       "mean    3.943778e+04                               4.234601e+05   40.722293   \n",
       "std     1.345949e+05                               1.936066e+06    0.057503   \n",
       "min    -1.099101e+05                               0.000000e+00   40.555080   \n",
       "25%     1.770947e+03                               1.498420e+04   40.676351   \n",
       "50%     6.101215e+03                               5.431184e+04   40.721144   \n",
       "75%     2.025603e+04                               2.003667e+05   40.752096   \n",
       "max     1.568982e+06                               3.351826e+07   40.890837   \n",
       "\n",
       "        longitude  community_board  council_district  census_tract  \\\n",
       "count  409.000000       409.000000        409.000000    409.000000   \n",
       "mean   -73.942376       317.982885         27.823961   2049.080685   \n",
       "std      0.065553        93.925749         10.984316   7784.674799   \n",
       "min    -74.216206       101.000000          1.000000      1.000000   \n",
       "25%    -73.984843       301.000000         26.000000     20.000000   \n",
       "50%    -73.941706       307.000000         30.000000    199.000000   \n",
       "75%    -73.909345       402.000000         36.000000    543.000000   \n",
       "max    -73.743730       503.000000         51.000000  94201.000000   \n",
       "\n",
       "                bin           bbl  \n",
       "count  4.010000e+02  4.010000e+02  \n",
       "mean   3.295894e+06  3.163398e+09  \n",
       "std    9.897776e+05  9.483943e+08  \n",
       "min    1.000811e+06  1.000220e+09  \n",
       "25%    3.009889e+06  3.006320e+09  \n",
       "50%    3.336903e+06  3.036760e+09  \n",
       "75%    4.005076e+06  4.003930e+09  \n",
       "max    5.168823e+06  5.070670e+09  "
      ]
     },
     "execution_count": 6,
     "metadata": {},
     "output_type": "execute_result"
    }
   ],
   "source": [
    "data.describe()"
   ]
  },
  {
   "cell_type": "markdown",
   "id": "16500440",
   "metadata": {},
   "source": [
    "Scan for null values in columns we'll need for analysis later on:\n",
    "\n",
    "- jobs created\n",
    "- savings"
   ]
  },
  {
   "cell_type": "code",
   "execution_count": 7,
   "id": "4ed91b99",
   "metadata": {},
   "outputs": [],
   "source": [
    "jobcreated_is_null = data[\"job_created\"].isnull() #generates a boolean series\n",
    "job_null = data[jobcreated_is_null] #uses the boolean to filter for rows with null values"
   ]
  },
  {
   "cell_type": "markdown",
   "id": "51044d95",
   "metadata": {},
   "source": [
    "There are null values in the jobs created column, which could artificially reduce what data is available numeric analyses. It is likely that if a program created jobs they would make sure to list it as a success metric. We will convert all null values as \"0.0\" to include those rows in numeric analyses."
   ]
  },
  {
   "cell_type": "code",
   "execution_count": 8,
   "id": "626a6efc",
   "metadata": {},
   "outputs": [
    {
     "name": "stdout",
     "output_type": "stream",
     "text": [
      "0       0.0\n",
      "1       0.0\n",
      "2       0.0\n",
      "3       0.0\n",
      "4       0.0\n",
      "       ... \n",
      "445    10.0\n",
      "446     0.0\n",
      "447     0.0\n",
      "448     0.0\n",
      "449     0.0\n",
      "Name: job_created, Length: 450, dtype: float64\n"
     ]
    }
   ],
   "source": [
    "#Replace null values in jobs created with 0\n",
    "data.loc[data[\"job_created\"].isnull(), \"job_created\"] = 0.0\n",
    "data[\"job_created\"] = data[\"job_created\"].astype(float)\n",
    "print(data[\"job_created\"])"
   ]
  },
  {
   "cell_type": "markdown",
   "id": "005b1e3d",
   "metadata": {},
   "source": [
    "NaN values in the jobs_created column are now zeros.\n",
    "\n",
    "Now, let's look at savings:"
   ]
  },
  {
   "cell_type": "code",
   "execution_count": 9,
   "id": "bb378773",
   "metadata": {},
   "outputs": [
    {
     "name": "stdout",
     "output_type": "stream",
     "text": [
      "Empty DataFrame\n",
      "Columns: [company_name, city, industry]\n",
      "Index: []\n"
     ]
    }
   ],
   "source": [
    "savings_is_null = data[\"total_savings\"].isnull() #generates a boolean series\n",
    "savings_null = data[savings_is_null] #can use the boolean to filter\n",
    "print(savings_null[[\"company_name\",\"city\",\"industry\"]]) #then print results with specific info"
   ]
  },
  {
   "cell_type": "code",
   "execution_count": 10,
   "id": "b46a0dc8",
   "metadata": {},
   "outputs": [
    {
     "name": "stdout",
     "output_type": "stream",
     "text": [
      "0           0.00\n",
      "1      136578.20\n",
      "2      302959.40\n",
      "3        2159.67\n",
      "4      922407.32\n",
      "         ...    \n",
      "445     35384.76\n",
      "446      1457.26\n",
      "447      8971.02\n",
      "448      2484.84\n",
      "449         0.00\n",
      "Name: total_savings, Length: 450, dtype: float64\n"
     ]
    }
   ],
   "source": [
    "# No null values in savings column.\n",
    "print(data[\"total_savings\"])\n",
    "\n",
    "#To confirm, you can see zero values represented as '0.00'"
   ]
  },
  {
   "cell_type": "markdown",
   "id": "c3dd4513",
   "metadata": {},
   "source": [
    "### Check for duplicates:"
   ]
  },
  {
   "cell_type": "code",
   "execution_count": 11,
   "id": "061f64c6",
   "metadata": {},
   "outputs": [
    {
     "name": "stdout",
     "output_type": "stream",
     "text": [
      "Empty DataFrame\n",
      "Columns: [company_name, company_contact, company_email, company_phone, address, city, state, postcode, industry, industry_descr, company_type, current_fulltime, job_created, job_retain, effective_date, total_savings, savings_from_beginning_receiving_benefits, borough, latitude, longitude, community_board, council_district, census_tract, bin, bbl, nta]\n",
      "Index: []\n",
      "\n",
      "[0 rows x 26 columns]\n"
     ]
    }
   ],
   "source": [
    "print(data[data.duplicated(subset=None, keep=False)] == True)"
   ]
  },
  {
   "cell_type": "markdown",
   "id": "1d9f6ea3",
   "metadata": {},
   "source": [
    "Result shows empty dataframe. So, we have no duplicate rows. From manual inspection, we do not have any duplicate columns.\n",
    "\n",
    "The data looks clean. Save as data_clean.csv for later."
   ]
  },
  {
   "cell_type": "code",
   "execution_count": 12,
   "id": "935f3aac",
   "metadata": {},
   "outputs": [],
   "source": [
    "data_cleaned = data.to_csv('data_clean.csv', index=False)"
   ]
  },
  {
   "cell_type": "markdown",
   "id": "96c86c42",
   "metadata": {},
   "source": [
    "## 1. How many different companies are represented in the data set?"
   ]
  },
  {
   "cell_type": "code",
   "execution_count": 13,
   "id": "76382c9b",
   "metadata": {},
   "outputs": [
    {
     "data": {
      "text/plain": [
       "439"
      ]
     },
     "execution_count": 13,
     "metadata": {},
     "output_type": "execute_result"
    }
   ],
   "source": [
    "unique_companies = data[\"company_name\"].unique()\n",
    "len(unique_companies)"
   ]
  },
  {
   "cell_type": "markdown",
   "id": "f3fedfb6",
   "metadata": {},
   "source": [
    "Answer: 439\n",
    "\n",
    "This is less than the 450 rows. Are all rows filled for this column?"
   ]
  },
  {
   "cell_type": "code",
   "execution_count": 14,
   "id": "7b60b2c4",
   "metadata": {},
   "outputs": [
    {
     "name": "stdout",
     "output_type": "stream",
     "text": [
      "<class 'pandas.core.series.Series'>\n",
      "RangeIndex: 450 entries, 0 to 449\n",
      "Series name: company_name\n",
      "Non-Null Count  Dtype \n",
      "--------------  ----- \n",
      "450 non-null    object\n",
      "dtypes: object(1)\n",
      "memory usage: 3.6+ KB\n"
     ]
    }
   ],
   "source": [
    "data[\"company_name\"].info()"
   ]
  },
  {
   "cell_type": "markdown",
   "id": "a3935ee4",
   "metadata": {},
   "source": [
    "Yes. So, some companies have multiple rows listed."
   ]
  },
  {
   "cell_type": "markdown",
   "id": "d755c5ec",
   "metadata": {},
   "source": [
    "## 2. What is the total number of jobs created for businesses in Queens?"
   ]
  },
  {
   "cell_type": "code",
   "execution_count": 15,
   "id": "be224ef5",
   "metadata": {},
   "outputs": [
    {
     "name": "stdout",
     "output_type": "stream",
     "text": [
      "90.0\n"
     ]
    }
   ],
   "source": [
    "inqueens = data[data[\"city\"] == \"Queens\"]\n",
    "jobs_in_queens = sum(inqueens[\"job_created\"])\n",
    "print(jobs_in_queens)"
   ]
  },
  {
   "cell_type": "markdown",
   "id": "0e207ee7",
   "metadata": {},
   "source": [
    "## 3. How many different unique email domains names are there in the data set?"
   ]
  },
  {
   "cell_type": "code",
   "execution_count": 16,
   "id": "72c79925",
   "metadata": {},
   "outputs": [
    {
     "data": {
      "text/plain": [
       "421"
      ]
     },
     "execution_count": 16,
     "metadata": {},
     "output_type": "execute_result"
    }
   ],
   "source": [
    "unique_emails = data[\"company_email\"].unique()\n",
    "len(unique_emails)"
   ]
  },
  {
   "cell_type": "markdown",
   "id": "d5a6fb4e",
   "metadata": {},
   "source": [
    "Some companies do not have emails listed in addition to companies having more than one project represented."
   ]
  },
  {
   "cell_type": "markdown",
   "id": "2ba6732e",
   "metadata": {},
   "source": [
    "## 4. Considering only NTAs with at least 5 listed businesses, what is the average total savings and the total jobs created for each NTA?"
   ]
  },
  {
   "cell_type": "markdown",
   "id": "79e554aa",
   "metadata": {},
   "source": [
    "Create new object grouped by nta, with all nta groups dropped that had less than 5 entries\n"
   ]
  },
  {
   "cell_type": "code",
   "execution_count": 17,
   "id": "77ebb46a",
   "metadata": {},
   "outputs": [],
   "source": [
    "ntagrouped = data.groupby(\"nta\").filter(lambda x: len(x) >= 5)\n",
    "ntagrouped = ntagrouped.groupby(\"nta\")"
   ]
  },
  {
   "cell_type": "markdown",
   "id": "c986b246",
   "metadata": {},
   "source": [
    "Compute summary statistics for specific columns of groups"
   ]
  },
  {
   "cell_type": "code",
   "execution_count": 18,
   "id": "759166e6",
   "metadata": {},
   "outputs": [],
   "source": [
    "totaljobs = ntagrouped[\"job_created\"].apply(lambda x: x.sum()) #creates a pandas series of total jobs for each nta group\n",
    "average_total_savings = ntagrouped[\"total_savings\"].mean() #pandas series of average total savings values for each nta"
   ]
  },
  {
   "cell_type": "markdown",
   "id": "b4ca5c76",
   "metadata": {},
   "source": [
    "Combine summary statistic series to make a new dataframe"
   ]
  },
  {
   "cell_type": "code",
   "execution_count": 19,
   "id": "0ad01bb1",
   "metadata": {},
   "outputs": [],
   "source": [
    "nta_data = pd.concat([totaljobs, average_total_savings], axis='columns')\n",
    "nta_data.rename(columns = {'job_created': 'total_jobs_created', 'total_savings':'ave_total_savings'}, inplace=True)"
   ]
  },
  {
   "cell_type": "markdown",
   "id": "598010cb",
   "metadata": {},
   "source": [
    "## 5. Save your result for the previous question as a CSV file."
   ]
  },
  {
   "cell_type": "code",
   "execution_count": 20,
   "id": "708ee4c3",
   "metadata": {},
   "outputs": [],
   "source": [
    "save_ntadata = nta_data.to_csv('nta_data.csv', index=True)"
   ]
  },
  {
   "cell_type": "markdown",
   "id": "597cfd61",
   "metadata": {},
   "source": [
    "# Matplotlib (+Seaborn)"
   ]
  },
  {
   "cell_type": "code",
   "execution_count": 21,
   "id": "99465cfb",
   "metadata": {},
   "outputs": [],
   "source": [
    "import numpy as np\n",
    "import datetime as dt\n",
    "import pandas as pd\n",
    "import matplotlib.pyplot as plt\n",
    "import seaborn as sns"
   ]
  },
  {
   "cell_type": "markdown",
   "id": "1d691647",
   "metadata": {},
   "source": [
    "## 1. Create a scatter plot of jobs created versus average savings. Use both a standard and a logarithmic scale for the average savings."
   ]
  },
  {
   "cell_type": "code",
   "execution_count": 22,
   "id": "6367445a",
   "metadata": {},
   "outputs": [
    {
     "data": {
      "image/png": "[encoded data removed]",
      "text/plain": [
       "<Figure size 1000x500 with 2 Axes>"
      ]
     },
     "metadata": {},
     "output_type": "display_data"
    }
   ],
   "source": [
    "plt.figure(figsize=(10, 5))\n",
    "plt.subplot(1, 2, 1)\n",
    "plt.scatter(nta_data['total_jobs_created'], nta_data['ave_total_savings'])\n",
    "plt.xlabel('Jobs Created')\n",
    "plt.ylabel('Average Total Savings')\n",
    "plt.title('Average Total Savings')\n",
    "plt.subplot(1, 2, 2)\n",
    "plt.scatter(nta_data['total_jobs_created'], nta_data['ave_total_savings'])\n",
    "plt.yscale(\"log\")\n",
    "plt.xlabel('Jobs Created')\n",
    "plt.ylabel('log(Average Total Savings)')\n",
    "plt.title('log(Average Total Savings)')\n",
    "\n",
    "plt.show()"
   ]
  },
  {
   "cell_type": "markdown",
   "id": "f044b318",
   "metadata": {},
   "source": [
    "## 2. Create a histogram of the log of the average total savings."
   ]
  },
  {
   "cell_type": "markdown",
   "id": "4cbff61f",
   "metadata": {},
   "source": [
    "First, make a dataframe column for log(average savings)"
   ]
  },
  {
   "cell_type": "code",
   "execution_count": 23,
   "id": "9fa8ab8a",
   "metadata": {},
   "outputs": [],
   "source": [
    "nta_data[\"log_ave_savings\"] = np.log(nta_data['ave_total_savings'])"
   ]
  },
  {
   "cell_type": "code",
   "execution_count": 24,
   "id": "9fe80241",
   "metadata": {},
   "outputs": [
    {
     "data": {
      "image/png": "[encoded data removed]",
      "text/plain": [
       "<Figure size 640x480 with 1 Axes>"
      ]
     },
     "metadata": {},
     "output_type": "display_data"
    }
   ],
   "source": [
    "plt.hist(nta_data['log_ave_savings'], facecolor='g', alpha=0.75)\n",
    "plt.ylabel('NTAs')\n",
    "plt.xlabel('log(Average Total Savings)')\n",
    "plt.title('log(Average Total Savings) by NTAs')\n",
    "plt.show()"
   ]
  },
  {
   "cell_type": "markdown",
   "id": "966c057d",
   "metadata": {},
   "source": [
    "## 3. Create a line plot of the total jobs created for each month."
   ]
  },
  {
   "cell_type": "markdown",
   "id": "8804927e",
   "metadata": {},
   "source": [
    "Remember from initial exploration that dates are in string format in our dataset. \n",
    "\n",
    "So, first convert dates jobs were created to datetimes."
   ]
  },
  {
   "cell_type": "code",
   "execution_count": 25,
   "id": "6bf66bc4",
   "metadata": {},
   "outputs": [],
   "source": [
    "data[\"effective_date\"] = pd.to_datetime(data[\"effective_date\"])"
   ]
  },
  {
   "cell_type": "markdown",
   "id": "44abfa39",
   "metadata": {},
   "source": [
    "Create a new column for month variable"
   ]
  },
  {
   "cell_type": "code",
   "execution_count": 26,
   "id": "9303fbd9",
   "metadata": {},
   "outputs": [],
   "source": [
    "data[\"month\"] = pd.DatetimeIndex(data['effective_date']).month"
   ]
  },
  {
   "cell_type": "markdown",
   "id": "6e19a483",
   "metadata": {},
   "source": [
    "Group data by month and sum values across groups to give total jobs/month"
   ]
  },
  {
   "cell_type": "code",
   "execution_count": 27,
   "id": "7e83f55c",
   "metadata": {},
   "outputs": [],
   "source": [
    "by_month = data.groupby('month').sum()"
   ]
  },
  {
   "cell_type": "markdown",
   "id": "2357f786",
   "metadata": {},
   "source": [
    "Plot the result"
   ]
  },
  {
   "cell_type": "code",
   "execution_count": 28,
   "id": "c65098e4",
   "metadata": {},
   "outputs": [
    {
     "data": {
      "image/png": "[encoded data removed]",
      "text/plain": [
       "<Figure size 640x480 with 1 Axes>"
      ]
     },
     "metadata": {},
     "output_type": "display_data"
    }
   ],
   "source": [
    "sns.set_theme()\n",
    "by_month['job_created'].plot.line()\n",
    "plt.ylabel('Total Jobs Created')\n",
    "plt.xlabel('Month')\n",
    "plt.title('Jobs Created By Month')\n",
    "plt.show()"
   ]
  }
 ],
 "metadata": {
  "kernelspec": {
   "display_name": "Python 3 (ipykernel)",
   "language": "python",
   "name": "python3"
  },
  "language_info": {
   "codemirror_mode": {
    "name": "ipython",
    "version": 3
   },
   "file_extension": ".py",
   "mimetype": "text/x-python",
   "name": "python",
   "nbconvert_exporter": "python",
   "pygments_lexer": "ipython3",
   "version": "3.9.13"
  }
 },
 "nbformat": 4,
 "nbformat_minor": 5
}
